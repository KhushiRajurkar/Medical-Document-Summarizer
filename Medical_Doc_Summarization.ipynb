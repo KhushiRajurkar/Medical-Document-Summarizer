{
  "nbformat": 4,
  "nbformat_minor": 0,
  "metadata": {
    "colab": {
      "provenance": [],
      "gpuType": "V28"
    },
    "kernelspec": {
      "name": "python3",
      "display_name": "Python 3"
    },
    "language_info": {
      "name": "python"
    },
    "accelerator": "TPU"
  },
  "cells": [
    {
      "cell_type": "markdown",
      "source": [
        "# **Install Dependencies**\n",
        "This cell installs all required packages and downloads the spaCy model."
      ],
      "metadata": {
        "id": "OBAHJhqXO6_B"
      }
    },
    {
      "cell_type": "code",
      "source": [
        "# Install required libraries (run this cell once)\n",
        "!pip install spacy nltk transformers beautifulsoup4 pymupdf\n",
        "!python -m spacy download en_core_web_sm"
      ],
      "metadata": {
        "colab": {
          "base_uri": "https://localhost:8080/"
        },
        "id": "RclwEV6bO8hd",
        "outputId": "96c31330-aaf8-41e4-9dbc-271a84343e0a"
      },
      "execution_count": 1,
      "outputs": [
        {
          "output_type": "stream",
          "name": "stdout",
          "text": [
            "Requirement already satisfied: spacy in /usr/local/lib/python3.11/dist-packages (3.8.4)\n",
            "Requirement already satisfied: nltk in /usr/local/lib/python3.11/dist-packages (3.9.1)\n",
            "Requirement already satisfied: transformers in /usr/local/lib/python3.11/dist-packages (4.50.2)\n",
            "Requirement already satisfied: beautifulsoup4 in /usr/local/lib/python3.11/dist-packages (4.13.3)\n",
            "Requirement already satisfied: pymupdf in /usr/local/lib/python3.11/dist-packages (1.25.5)\n",
            "Requirement already satisfied: spacy-legacy<3.1.0,>=3.0.11 in /usr/local/lib/python3.11/dist-packages (from spacy) (3.0.12)\n",
            "Requirement already satisfied: spacy-loggers<2.0.0,>=1.0.0 in /usr/local/lib/python3.11/dist-packages (from spacy) (1.0.5)\n",
            "Requirement already satisfied: murmurhash<1.1.0,>=0.28.0 in /usr/local/lib/python3.11/dist-packages (from spacy) (1.0.12)\n",
            "Requirement already satisfied: cymem<2.1.0,>=2.0.2 in /usr/local/lib/python3.11/dist-packages (from spacy) (2.0.11)\n",
            "Requirement already satisfied: preshed<3.1.0,>=3.0.2 in /usr/local/lib/python3.11/dist-packages (from spacy) (3.0.9)\n",
            "Requirement already satisfied: thinc<8.4.0,>=8.3.4 in /usr/local/lib/python3.11/dist-packages (from spacy) (8.3.4)\n",
            "Requirement already satisfied: wasabi<1.2.0,>=0.9.1 in /usr/local/lib/python3.11/dist-packages (from spacy) (1.1.3)\n",
            "Requirement already satisfied: srsly<3.0.0,>=2.4.3 in /usr/local/lib/python3.11/dist-packages (from spacy) (2.5.1)\n",
            "Requirement already satisfied: catalogue<2.1.0,>=2.0.6 in /usr/local/lib/python3.11/dist-packages (from spacy) (2.0.10)\n",
            "Requirement already satisfied: weasel<0.5.0,>=0.1.0 in /usr/local/lib/python3.11/dist-packages (from spacy) (0.4.1)\n",
            "Requirement already satisfied: typer<1.0.0,>=0.3.0 in /usr/local/lib/python3.11/dist-packages (from spacy) (0.15.2)\n",
            "Requirement already satisfied: tqdm<5.0.0,>=4.38.0 in /usr/local/lib/python3.11/dist-packages (from spacy) (4.67.1)\n",
            "Requirement already satisfied: numpy>=1.19.0 in /usr/local/lib/python3.11/dist-packages (from spacy) (2.0.2)\n",
            "Requirement already satisfied: requests<3.0.0,>=2.13.0 in /usr/local/lib/python3.11/dist-packages (from spacy) (2.32.3)\n",
            "Requirement already satisfied: pydantic!=1.8,!=1.8.1,<3.0.0,>=1.7.4 in /usr/local/lib/python3.11/dist-packages (from spacy) (2.11.0)\n",
            "Requirement already satisfied: jinja2 in /usr/local/lib/python3.11/dist-packages (from spacy) (3.1.6)\n",
            "Requirement already satisfied: setuptools in /usr/local/lib/python3.11/dist-packages (from spacy) (75.2.0)\n",
            "Requirement already satisfied: packaging>=20.0 in /usr/local/lib/python3.11/dist-packages (from spacy) (24.2)\n",
            "Requirement already satisfied: langcodes<4.0.0,>=3.2.0 in /usr/local/lib/python3.11/dist-packages (from spacy) (3.5.0)\n",
            "Requirement already satisfied: click in /usr/local/lib/python3.11/dist-packages (from nltk) (8.1.8)\n",
            "Requirement already satisfied: joblib in /usr/local/lib/python3.11/dist-packages (from nltk) (1.4.2)\n",
            "Requirement already satisfied: regex>=2021.8.3 in /usr/local/lib/python3.11/dist-packages (from nltk) (2024.11.6)\n",
            "Requirement already satisfied: filelock in /usr/local/lib/python3.11/dist-packages (from transformers) (3.18.0)\n",
            "Requirement already satisfied: huggingface-hub<1.0,>=0.26.0 in /usr/local/lib/python3.11/dist-packages (from transformers) (0.29.3)\n",
            "Requirement already satisfied: pyyaml>=5.1 in /usr/local/lib/python3.11/dist-packages (from transformers) (6.0.2)\n",
            "Requirement already satisfied: tokenizers<0.22,>=0.21 in /usr/local/lib/python3.11/dist-packages (from transformers) (0.21.1)\n",
            "Requirement already satisfied: safetensors>=0.4.3 in /usr/local/lib/python3.11/dist-packages (from transformers) (0.5.3)\n",
            "Requirement already satisfied: soupsieve>1.2 in /usr/local/lib/python3.11/dist-packages (from beautifulsoup4) (2.6)\n",
            "Requirement already satisfied: typing-extensions>=4.0.0 in /usr/local/lib/python3.11/dist-packages (from beautifulsoup4) (4.13.0)\n",
            "Requirement already satisfied: fsspec>=2023.5.0 in /usr/local/lib/python3.11/dist-packages (from huggingface-hub<1.0,>=0.26.0->transformers) (2025.3.0)\n",
            "Requirement already satisfied: language-data>=1.2 in /usr/local/lib/python3.11/dist-packages (from langcodes<4.0.0,>=3.2.0->spacy) (1.3.0)\n",
            "Requirement already satisfied: annotated-types>=0.6.0 in /usr/local/lib/python3.11/dist-packages (from pydantic!=1.8,!=1.8.1,<3.0.0,>=1.7.4->spacy) (0.7.0)\n",
            "Requirement already satisfied: pydantic-core==2.33.0 in /usr/local/lib/python3.11/dist-packages (from pydantic!=1.8,!=1.8.1,<3.0.0,>=1.7.4->spacy) (2.33.0)\n",
            "Requirement already satisfied: typing-inspection>=0.4.0 in /usr/local/lib/python3.11/dist-packages (from pydantic!=1.8,!=1.8.1,<3.0.0,>=1.7.4->spacy) (0.4.0)\n",
            "Requirement already satisfied: charset-normalizer<4,>=2 in /usr/local/lib/python3.11/dist-packages (from requests<3.0.0,>=2.13.0->spacy) (3.4.1)\n",
            "Requirement already satisfied: idna<4,>=2.5 in /usr/local/lib/python3.11/dist-packages (from requests<3.0.0,>=2.13.0->spacy) (3.10)\n",
            "Requirement already satisfied: urllib3<3,>=1.21.1 in /usr/local/lib/python3.11/dist-packages (from requests<3.0.0,>=2.13.0->spacy) (2.3.0)\n",
            "Requirement already satisfied: certifi>=2017.4.17 in /usr/local/lib/python3.11/dist-packages (from requests<3.0.0,>=2.13.0->spacy) (2025.1.31)\n",
            "Requirement already satisfied: blis<1.3.0,>=1.2.0 in /usr/local/lib/python3.11/dist-packages (from thinc<8.4.0,>=8.3.4->spacy) (1.2.0)\n",
            "Requirement already satisfied: confection<1.0.0,>=0.0.1 in /usr/local/lib/python3.11/dist-packages (from thinc<8.4.0,>=8.3.4->spacy) (0.1.5)\n",
            "Requirement already satisfied: shellingham>=1.3.0 in /usr/local/lib/python3.11/dist-packages (from typer<1.0.0,>=0.3.0->spacy) (1.5.4)\n",
            "Requirement already satisfied: rich>=10.11.0 in /usr/local/lib/python3.11/dist-packages (from typer<1.0.0,>=0.3.0->spacy) (13.9.4)\n",
            "Requirement already satisfied: cloudpathlib<1.0.0,>=0.7.0 in /usr/local/lib/python3.11/dist-packages (from weasel<0.5.0,>=0.1.0->spacy) (0.21.0)\n",
            "Requirement already satisfied: smart-open<8.0.0,>=5.2.1 in /usr/local/lib/python3.11/dist-packages (from weasel<0.5.0,>=0.1.0->spacy) (7.1.0)\n",
            "Requirement already satisfied: MarkupSafe>=2.0 in /usr/local/lib/python3.11/dist-packages (from jinja2->spacy) (3.0.2)\n",
            "Requirement already satisfied: marisa-trie>=1.1.0 in /usr/local/lib/python3.11/dist-packages (from language-data>=1.2->langcodes<4.0.0,>=3.2.0->spacy) (1.2.1)\n",
            "Requirement already satisfied: markdown-it-py>=2.2.0 in /usr/local/lib/python3.11/dist-packages (from rich>=10.11.0->typer<1.0.0,>=0.3.0->spacy) (3.0.0)\n",
            "Requirement already satisfied: pygments<3.0.0,>=2.13.0 in /usr/local/lib/python3.11/dist-packages (from rich>=10.11.0->typer<1.0.0,>=0.3.0->spacy) (2.19.1)\n",
            "Requirement already satisfied: wrapt in /usr/local/lib/python3.11/dist-packages (from smart-open<8.0.0,>=5.2.1->weasel<0.5.0,>=0.1.0->spacy) (1.17.2)\n",
            "Requirement already satisfied: mdurl~=0.1 in /usr/local/lib/python3.11/dist-packages (from markdown-it-py>=2.2.0->rich>=10.11.0->typer<1.0.0,>=0.3.0->spacy) (0.1.2)\n",
            "Collecting en-core-web-sm==3.8.0\n",
            "  Using cached https://github.com/explosion/spacy-models/releases/download/en_core_web_sm-3.8.0/en_core_web_sm-3.8.0-py3-none-any.whl (12.8 MB)\n",
            "\u001b[38;5;2m✔ Download and installation successful\u001b[0m\n",
            "You can now load the package via spacy.load('en_core_web_sm')\n",
            "\u001b[38;5;3m⚠ Restart to reload dependencies\u001b[0m\n",
            "If you are in a Jupyter or Colab notebook, you may need to restart Python in\n",
            "order to load all the package's dependencies. You can do this by selecting the\n",
            "'Restart kernel' or 'Restart runtime' option.\n"
          ]
        }
      ]
    },
    {
      "cell_type": "markdown",
      "source": [
        "# **Import Libraries and Setup**\n",
        "This cell imports necessary libraries and initializes the BigBird-Pegasus summarization pipeline."
      ],
      "metadata": {
        "id": "CWoPlpFlO_Rw"
      }
    },
    {
      "cell_type": "code",
      "source": [
        "# Import required libraries\n",
        "import re\n",
        "import nltk\n",
        "import spacy\n",
        "import fitz\n",
        "from transformers import pipeline\n",
        "\n",
        "# Download NLTK punkt if not already done\n",
        "nltk.download('punkt')\n",
        "nltk.download('punkt_tab')\n",
        "\n",
        "# Load spaCy model\n",
        "nlp = spacy.load(\"en_core_web_sm\")\n",
        "\n",
        "# Initialize the BigBird-Pegasus summarization pipeline for PubMed texts\n",
        "summarizer = pipeline(\"summarization\", model=\"google/bigbird-pegasus-large-pubmed\")"
      ],
      "metadata": {
        "colab": {
          "base_uri": "https://localhost:8080/"
        },
        "id": "PbphjHNkair1",
        "outputId": "1b5c063f-da94-453a-b454-da82e5959a29"
      },
      "execution_count": 9,
      "outputs": [
        {
          "output_type": "stream",
          "name": "stderr",
          "text": [
            "[nltk_data] Downloading package punkt to /root/nltk_data...\n",
            "[nltk_data]   Package punkt is already up-to-date!\n",
            "[nltk_data] Downloading package punkt_tab to /root/nltk_data...\n",
            "[nltk_data]   Unzipping tokenizers/punkt_tab.zip.\n",
            "Device set to use cpu\n"
          ]
        }
      ]
    },
    {
      "cell_type": "markdown",
      "source": [
        "# **Helper Functions: PDF Reading and Cleaning**\n",
        "This cell contains functions for reading PDF files with a content filter and cleaning the extracted text."
      ],
      "metadata": {
        "id": "UAeVLd7DPGSs"
      }
    },
    {
      "cell_type": "code",
      "source": [
        "def read_pdf_with_content_filter(file_path, keywords=[\"Abstract\", \"Introduction\", \"Methods\", \"Results\", \"Conclusions\"]):\n",
        "    \"\"\"\n",
        "    Reads a PDF file and returns text only from pages that contain one of the specified keywords.\n",
        "    This helps exclude pages that mainly contain header/metadata.\n",
        "    \"\"\"\n",
        "    doc = fitz.open(file_path)\n",
        "    content_pages = []\n",
        "    for i in range(len(doc)):\n",
        "        page_text = doc[i].get_text()\n",
        "        if any(keyword.lower() in page_text.lower() for keyword in keywords):\n",
        "            content_pages.append(page_text)\n",
        "    return \"\\n\".join(content_pages)\n",
        "\n",
        "def clean_text(text):\n",
        "    \"\"\"\n",
        "    Cleans the text by removing citations, extra whitespace, and unwanted characters.\n",
        "    \"\"\"\n",
        "    text = re.sub(r'\\[\\d+\\]', '', text)  # Remove citations like [12]\n",
        "    text = re.sub(r'\\(\\d+\\)', '', text)  # Remove citations like (3)\n",
        "    text = re.sub(r'\\s+', ' ', text)     # Normalize whitespace\n",
        "    return text.strip()"
      ],
      "metadata": {
        "id": "k8gtbRycts8V"
      },
      "execution_count": 10,
      "outputs": []
    },
    {
      "cell_type": "markdown",
      "source": [
        "# **Helper Functions: Core Section Extraction**\n",
        "This cell includes functions to extract core sections from text and remove header metadata as a fallback.\n"
      ],
      "metadata": {
        "id": "1AZAwbVjPZIb"
      }
    },
    {
      "cell_type": "code",
      "source": [
        "def extract_core_sections(text):\n",
        "    \"\"\"\n",
        "    Attempts to extract core sections using common headings.\n",
        "    Returns a dictionary with section name (lowercase) as key and its content as value.\n",
        "    \"\"\"\n",
        "    pattern = r'(?i)(Abstract|Introduction|Methods|Results|Conclusions|Discussion)\\s*[:\\n\\.]'\n",
        "    splits = re.split(pattern, text)\n",
        "    sections = {}\n",
        "    if len(splits) > 1:\n",
        "        for i in range(1, len(splits), 2):\n",
        "            heading = splits[i].strip().lower()\n",
        "            content = splits[i+1].strip() if i+1 < len(splits) else \"\"\n",
        "            sections[heading] = content\n",
        "    return sections\n",
        "\n",
        "def remove_header_metadata(text, marker=\"Competing Interests:\"):\n",
        "    \"\"\"\n",
        "    Removes header/metadata from the text by using a marker.\n",
        "    If the marker is found, returns text after it; otherwise, returns the original text.\n",
        "    \"\"\"\n",
        "    idx = text.find(marker)\n",
        "    if idx != -1:\n",
        "        return text[idx + len(marker):].strip()\n",
        "    return text"
      ],
      "metadata": {
        "id": "faE1iB2SPhbn"
      },
      "execution_count": 11,
      "outputs": []
    },
    {
      "cell_type": "markdown",
      "source": [
        "# **Helper Functions: Chunking and Summarization**\n",
        "This cell defines functions to split text into chunks, summarize text, and format bullet points.\n"
      ],
      "metadata": {
        "id": "sLBB-1pfPkbB"
      }
    },
    {
      "cell_type": "code",
      "source": [
        "def split_into_chunks(text, chunk_size=500):\n",
        "    \"\"\"\n",
        "    Splits the text into chunks of approximately chunk_size words.\n",
        "    \"\"\"\n",
        "    words = text.split()\n",
        "    chunks = []\n",
        "    for i in range(0, len(words), chunk_size):\n",
        "        chunk = \" \".join(words[i:i+chunk_size])\n",
        "        chunks.append(chunk)\n",
        "    return chunks\n",
        "\n",
        "def summarize_text(text, max_length=200, min_length=50):\n",
        "    \"\"\"\n",
        "    Summarizes the given text using BigBird-Pegasus.\n",
        "    Adjusts output lengths if the input is very short.\n",
        "    \"\"\"\n",
        "    input_length = len(text.split())\n",
        "    if input_length < 60:\n",
        "        max_length = min(max_length, 40)\n",
        "        min_length = min(min_length, 10)\n",
        "    summary = summarizer(text, max_length=max_length, min_length=min_length, do_sample=False)\n",
        "    return summary[0]['summary_text']\n",
        "\n",
        "def format_bullet_points(summary):\n",
        "    \"\"\"\n",
        "    Splits the summary into sentences and formats each as a bullet point.\n",
        "    \"\"\"\n",
        "    sentences = nltk.sent_tokenize(summary)\n",
        "    bullets = [\"- \" + sentence for sentence in sentences]\n",
        "    return \"\\n\".join(bullets)"
      ],
      "metadata": {
        "id": "vF6gohNSPmXV"
      },
      "execution_count": 12,
      "outputs": []
    },
    {
      "cell_type": "markdown",
      "source": [
        "# **Helper Function: Post-Processing (Wrap Paragraph)**\n",
        "This cell defines a function to convert bullet points into a neatly wrapped paragraph using the textwrap module.\n"
      ],
      "metadata": {
        "id": "-PnEDjvRPsla"
      }
    },
    {
      "cell_type": "code",
      "source": [
        "def bullet_to_paragraph_wrapped(bullet_text, width=80):\n",
        "    \"\"\"\n",
        "    Converts bullet point summary into a paragraph and wraps the text to a specified width.\n",
        "    \"\"\"\n",
        "    paragraph = bullet_text.replace(\"- \", \"\").replace(\"<n>\", \" \")\n",
        "    paragraph = re.sub(r'\\s+', ' ', paragraph).strip()\n",
        "    wrapped_paragraph = textwrap.fill(paragraph, width=width)\n",
        "    return wrapped_paragraph"
      ],
      "metadata": {
        "id": "TY0D9HvLPu-Y"
      },
      "execution_count": 13,
      "outputs": []
    },
    {
      "cell_type": "markdown",
      "source": [
        "# **Main Pipeline**\n",
        "This cell integrates all helper functions: reading the PDF, cleaning text, extracting core sections (or using fallback), chunking, summarizing each chunk, and then generating a final bullet point summary."
      ],
      "metadata": {
        "id": "RnN2jgrYPyHz"
      }
    },
    {
      "cell_type": "code",
      "source": [
        "# Main Pipeline with Improved Extraction\n",
        "\n",
        "# Step 1: Read the PDF using a content filter to exclude pages that lack core content.\n",
        "pdf_file_path = '/content/pmed.0020298.pdf'  # Replace with your actual PDF path\n",
        "full_text = read_pdf_with_content_filter(pdf_file_path)\n",
        "print(\"Filtered extracted text length (characters):\", len(full_text))\n",
        "\n",
        "# Step 2: Clean the extracted text.\n",
        "cleaned_text = clean_text(full_text)\n",
        "print(\"\\n--- First 1000 characters of cleaned text ---\\n\")\n",
        "print(cleaned_text[:1000])\n",
        "\n",
        "# Step 3: Attempt to extract core sections from the cleaned text.\n",
        "sections = extract_core_sections(cleaned_text)\n",
        "print(\"\\nExtracted sections:\", list(sections.keys()))\n",
        "\n",
        "# Step 4: Fallback if no core sections are found.\n",
        "if not sections:\n",
        "    print(\"\\nNo clear sections detected. Using fallback extraction to remove header metadata.\")\n",
        "    core_text = remove_header_metadata(cleaned_text)\n",
        "else:\n",
        "    # Combine sections in a preferred order if found.\n",
        "    order = ['abstract', 'introduction', 'methods', 'results', 'conclusions', 'discussion']\n",
        "    core_content = [sections[sec] for sec in order if sec in sections]\n",
        "    core_text = \" \".join(core_content) if core_content else cleaned_text\n",
        "\n",
        "print(\"\\n--- Combined Core Text Preview (first 1000 characters) ---\\n\")\n",
        "print(core_text[:1000])\n",
        "\n",
        "# Step 5: Split the core text into manageable chunks.\n",
        "chunks = split_into_chunks(core_text, chunk_size=500)\n",
        "print(\"\\nNumber of core text chunks:\", len(chunks))\n",
        "\n",
        "# Step 6: Summarize each chunk individually.\n",
        "chunk_summaries = []\n",
        "for i, chunk in enumerate(chunks):\n",
        "    print(f\"\\nSummarizing core chunk {i+1}/{len(chunks)}...\")\n",
        "    try:\n",
        "        chunk_summary = summarize_text(chunk, max_length=200, min_length=50)\n",
        "    except Exception as e:\n",
        "        print(f\"Error in chunk {i+1}: {e}\")\n",
        "        chunk_summary = \"\"\n",
        "    chunk_summaries.append(chunk_summary)\n",
        "    print(\"Chunk summary:\", chunk_summary)\n",
        "\n",
        "# Step 7: Combine all chunk summaries and perform a final summarization.\n",
        "final_core_summary_text = \" \".join(chunk_summaries)\n",
        "final_summary = summarize_text(final_core_summary_text, max_length=200, min_length=50)\n",
        "print(\"\\nFinal Summary:\\n\", final_summary)\n",
        "\n",
        "# Step 8: Format the final summary as bullet points.\n",
        "bullet_points = format_bullet_points(final_summary)\n",
        "print(\"\\nBullet Point Summary from Core Content:\\n\", bullet_points)"
      ],
      "metadata": {
        "colab": {
          "base_uri": "https://localhost:8080/"
        },
        "id": "mIQvmq3LL0bC",
        "outputId": "a989329d-55ce-482e-90e8-5278988570b5"
      },
      "execution_count": 14,
      "outputs": [
        {
          "output_type": "stream",
          "name": "stdout",
          "text": [
            "Filtered extracted text length (characters): 41943\n",
            "\n",
            "--- First 1000 characters of cleaned text ---\n",
            "\n",
            "Randomized, Controlled Intervention Trial of Male Circumcision for Reduction of HIV Infection Risk: The ANRS 1265 Trial Bertran Auvert1,2,3,4*, Dirk Taljaard5, Emmanuel Lagarde2,4, Joe¨lle Sobngwi-Tambekou2, Re´mi Sitta2,4, Adrian Puren6 1 Hoˆpital Ambroise-Pare´, Assitance Publique—Hoˆpitaux de Paris, Boulogne, France, 2 INSERM U 687, Saint-Maurice, France, 3 University Versailles Saint-Quentin, Versailles, France, 4 IFR 69, Villejuif, France, 5 Progressus, Johannesburg, South Africa, 6 National Institute for Communicable Disease, Johannesburg, South Africa Competing Interests: The authors have declared that no competing interests exist. Author Contributions: BA designed the study with DT, EL, and AP. DT and AP were responsible for operational aspects, including laboratory and field work and in- country administration of the study. BA monitored the study with input from EL and wrote the paper with input from all authors. BA analyzed the data with RS, with inputs from JST. RS conducted\n",
            "\n",
            "Extracted sections: []\n",
            "\n",
            "No clear sections detected. Using fallback extraction to remove header metadata.\n",
            "\n",
            "--- Combined Core Text Preview (first 1000 characters) ---\n",
            "\n",
            "The authors have declared that no competing interests exist. Author Contributions: BA designed the study with DT, EL, and AP. DT and AP were responsible for operational aspects, including laboratory and field work and in- country administration of the study. BA monitored the study with input from EL and wrote the paper with input from all authors. BA analyzed the data with RS, with inputs from JST. RS conducted the interim analysis. Academic Editor: Steven Deeks, San Francisco General Hospital, San Francisco, California, United States of America. Citation: Auvert B, Taljaard D, Lagarde E, Sobngwi-Tambekou J, Sitta R, et al. Randomized, controlled intervention trial of male circumcision for reduction of HIV infection risk: The ANRS 1265 trial. PLoS Med 2: e298. Received: June 29, 2005 Accepted: September 26, 2005 Published: October 25, 2005 DOI: 10.1371/journal.pmed.0020298 Copyright: \u0002 2005 Auvert et al. This is an open-access article distributed under the terms of the Creative Commons\n",
            "\n",
            "Number of core text chunks: 14\n",
            "\n",
            "Summarizing core chunk 1/14...\n"
          ]
        },
        {
          "output_type": "stream",
          "name": "stderr",
          "text": [
            "Attention type 'block_sparse' is not possible if sequence_length: 618 <= num global tokens: 2 * config.block_size + min. num sliding tokens: 3 * config.block_size + config.num_random_blocks * config.block_size + additional buffer: config.num_random_blocks * config.block_size = 704 with config.block_size = 64, config.num_random_blocks = 3. Changing attention type to 'original_full'...\n"
          ]
        },
        {
          "output_type": "stream",
          "name": "stdout",
          "text": [
            "Chunk summary: this paper provides an overview of recent developments in the field of infectious diseases .<n> it is anticipated that the information gained from these studies will be useful for understanding the emergence of new pathogens and for improving the control of infections in the future .<n> the paper is divided into three sections .<n> the first section deals with general principles of infection control . in this section ,<n> authors have discussed general principles of infection control , including the role of the immune system and innate and adaptive immunity .<n> the second section is dedicated to specific aspects of infection control , including immunological principles .<n> the third section is dedicated to animal models of infection . in the first section ,<n> authors have discussed general principles of infection control , including the role of the immune system and innate and adaptive immunity . in the second section ,<n> authors have discussed specific aspects of infection control , including the role of the immune system and innate and adaptive immunity .<n> the third\n",
            "\n",
            "Summarizing core chunk 2/14...\n",
            "Chunk summary: self - mutilation of male genital organs is common in many parts of the world for cultural reasons .<n> thiseditary circumcision , performed byuritans for religious reasons , was introduced to europe and north america in the late 19th century . since then , it has been practiced in most countries of asia , europe , and north america .<n> the procedure , which is performed under general anesthesia , involves the intentional dismemberment of the male genitalia by the crown of thorns , after which there is a brief period of observation . in recent years , however , there has been growing concern about the risk of infection , especially with regard to circumcision .<n> circumcised men , who are usually in their 20s and 30s , are usually thin and have short hair , whereas uncircumcised men usually have , at least , some length of\n",
            "\n",
            "Summarizing core chunk 3/14...\n",
            "Chunk summary: the international agency for research on cancer ( irrc ) and the european organization for research and treatment of cancer ( eortc ) have jointly initiated a trial to compare the effectiveness of prednisolone and meropenem in the prevention of human immunodeficiency virus ( hiv ) and acquired immunodeficiency syndrome ( aids ) .<n> the irrc trial consists of three steps .<n> the first step consists of written informed consent .<n> participants are recruited from the general population . during the second step , potential participants are screened for hiv / aids .<n> after this step , participants are invited to a randomized controlled trial to receive either prednisolone , meropenem or a combination of the two . during the third step ,<n> potential participants are randomly assigned to receive either prednisolone , meropenem or a combination of the two and are followed for nine months .<n> the trial is ongoing \n",
            "\n",
            "Summarizing core chunk 4/14...\n",
            "Chunk summary: human immunodeficiency virus ( hiv)/acquired immune deficiency syndrome ( aids ) is a chronic debilitating disease affecting millions of people worldwide . in africa , hiv / aids prevalence has been increasing at alarming rates in recent years and is projected to further increase with the demographic growth , urbanization , industrialization and changing social and cultural environments .<n> although prevention of the spread of hiv / aids is essential , it remains a challenge for health systems to provide care for the increasing number of people living with the disease .<n> understanding the genetic basis of hiv / aids is fundamental for the development of strategies for the prevention and control of the disease .<n> understanding the genetic basis of hiv / aids is important for the development of strategies for the prevention and control of the disease , as well as for providing health care for those people living with the disease .<n> understanding the genetic basis of hiv / aids is important for the development of strategies for the prevention\n",
            "\n",
            "Summarizing core chunk 5/14...\n",
            "Chunk summary: the world health organization ( who ) produced a report on male circumcision in 1992 and recommended that it should be performed by general practitioners . however , there are no data on the utility of circumcision performed by general practitioners . in order to obtain more information on the utility of circumcision performed by general practitioners , a randomised controlled trial of three general practitioners and five healthy volunteers was carried out .<n> the participants were placed on antiretroviral therapy , their circumcisions were performed by a single surgeon , and a third general practitioner carried out the circumcision .<n> the general practitioners completed a questionnaire and left the hospital with their results .<n> the data were analyzed using statistical package for the social sciences ( spss ) 17.0 .<n> there were five participants in the trial .<n> the mean age of the participants was 38 years .<n> all of them were males .<n> the procedure was performed by a single surgeon .<n> all of the participants agreed to participate\n",
            "\n",
            "Summarizing core chunk 6/14...\n",
            "Chunk summary: the development of the somatostatin ( s ) family of antiangiogenic hormones began with the discovery that s , s - adenosylmethionine ( s - amm ) and s - d - aspartate ( s - adl ) were elevated in patients with rheumatoid arthritis ( ra ) .<n> this finding led to the development of immunomodulatory drugs and the initiation of clinical trials for the inhibition of s , s - adenosylmethionine ( s - amm ) and s - d - aspartate ( s - adl ) . however , the antiangiogenic effect of these drugs and their immunomodulatory effect on patients with ra has been questioned . to address this question ,<n> a study was conducted in which patients with ra were compared to patients with polycystic kidney disease ( pcd ) .<n> patients with ra\n",
            "\n",
            "Summarizing core chunk 7/14...\n",
            "Chunk summary: previous studies have suggested that sexually transmitted infections ( stds ) are preventable by standard male circumcision .<n> however , these previous studies were based on a small number of circumcision trials and did not capture all of the factors that influence sexual behavior . in this paper , we present the outcomes of a nested case - control study that investigated the impact of prior sexual behavior on stds . during 2005 , 30 circumcised men participated in the study and were followed up for 3 years .<n> incidence rates and incidence ratio of stds were obtained from case and control files .<n> the impact of participating in the study was assessed by calculating the covariates associated with each period of time .<n> nested case - control study was implemented by running log - transformed data on periods of corresponding lines , which became sepositive .<n> subsequently , in this dataset , each individual was represented by three lines of the type of infection among men of the intervention group .<n>\n",
            "\n",
            "Summarizing core chunk 8/14...\n",
            "Chunk summary: we report a genome - wide association study ( gwas ) of early childhood acute lymphoblastic leukemia ( all ) .<n> the gwas was conducted among 3,582 participants of european descent from the netherlands and great britain .<n> the gwas included two stages : 1 ) genome - wide association study ( gwas ) , and 2 ) replication of the gwas genome in an independent all control group ( control ) .<n> gwas was conducted using chromosome 16p11.2 , which was chosen because it is the most widely studied locus for all and because it is known to be associated with susceptibility to childhood leukemia .<n> the gwas involved identifying risk factors for all and found that chromosome 16p11.2 locus was associated with susceptibility to childhood leukemia .<n> replication of the gwas genome in the control group was performed using chromosome 21q13.1 , which is known to be associated with susceptibility to leukemia\n",
            "\n",
            "Summarizing core chunk 9/14...\n",
            "Chunk summary: advances in the understanding of how organisms control their body shape have been impeded by a lack of appropriate tools .<n> this knowledgebase is the object of an upcoming , multidisciplinary study , the second in a series of three , aimed at understanding how the body shapes up in response to external forces .<n> the first aim of the study is to draw a contrast between how organisms control body shape and how this shapes up in response to stimulation . in the second aim ,<n> the study aims to provide a basic understanding of how the body shapes up in response to physical or chemical stimulation .<n> the first aim of the study was to compare how organisms control body shape with how organisms control body shape using two well - known examples of how the body shapes up in response to physical or chemical stimulation , respectively : 1 ) the ability of organisms to control body shape , and 2 ) the ability of organisms to control body shape in response to chemical stimulation \n",
            "\n",
            "Summarizing core chunk 10/14...\n",
            "Chunk summary: we conducted a randomized controlled trial to compare the efficacy of levetiracetam and adalimumab in the treatment of rheumatoid arthritis ( ra ) .<n> we compared the efficacy of levetiracetam and adalimumab in the treatment of patients with rheumatic heart disease ( rhd ) .<n> the primary outcome measure was the incidence of disease progression on subsequent visits to the rhd outpatient clinic .<n> the secondary outcome measures were the changes in scores on the patient 's global assessment of health ( gca ) scale and on the patient 's self - rated global health ( srh ) scale .<n> all analyses were carried out using an intention - to - treat approach .<n> all analyses were carried out in two groups of patients : one group of 100 patients from the rhd outpatient clinic and the other group of 100 patients from the rhd outpatient clinic .<n> all analyses were carried out using a random number generator\n",
            "\n",
            "Summarizing core chunk 11/14...\n",
            "Chunk summary: when controlling for sexual behaviour , including condom use , women may be exposed against male-to-female behaviour , including condom use , which is potentially important women are aware of promoting protective effect against acquiring infection , which is potentially important women are aware of promoting protective effect against acquiring infection , which is potentially important men are aware of promoting protective effect against acquiring infection , which is potentially important women are aware of promoting protective effect against acquiring infection , which is potentially important men are aware of promoting protective effect against acquiring infection , which is potentially important women are aware of promoting protective effect against acquiring infection , which is potentially important men are aware of promoting protective effect against acquiring infection , which is potentially important women are aware of promoting protective effect against acquiring infection , which is potentially important men are aware of promoting protective effect against acquiring infection , which is potentially important women are aware of promoting protective effect against acquiring infection , which is potentially important men are aware\n",
            "\n",
            "Summarizing core chunk 12/14...\n",
            "Chunk summary: for centuries male circumcision in africa has been based on social and cultural traditions .<n> however , there is now an increasing awareness of the social and cultural costs of circumcision .<n> in addition to the obvious increase in acceptability of circumcision for children , there are certain additional concerns that must be addressed : those arising from poor conditions in which circumcision is performed and those resulting from human infection .<n> these concerns are the subject of this mini - review .<n> the aim of this review is to assess the impact of these concerns on current practice and to suggest future directions and strategies for addressing these issues .\n",
            "\n",
            "Summarizing core chunk 13/14...\n"
          ]
        },
        {
          "output_type": "stream",
          "name": "stderr",
          "text": [
            "Your max_length is set to 200, but your input_length is only 137. Since this is a summarization task, where outputs shorter than the input are typically wanted, you might consider decreasing max_length manually, e.g. summarizer('...', max_length=68)\n"
          ]
        },
        {
          "output_type": "stream",
          "name": "stdout",
          "text": [
            "Chunk summary: efforts to prevent men from becoming infected with hiv have been hampered by lack of knowledge about risk factors .<n> circumcised men have higher chances of becoming infected with hiv , compared to uncircumcised men .<n> this study was aimed at understanding risk factors for hiv infection and ways to reduce men from becoming infected .\n",
            "\n",
            "Summarizing core chunk 14/14...\n",
            "Chunk summary: key clinical messageatypical manifestation of huntington 's disease ( hd ) is an autosomal dominant loss of hair and teeth .<n> the distinctive feature of hd is that the affected individual often does not reconstitute his or her lost hair and/or teeth over the course of the disease .<n> therefore , a well - designed long - term follow - up strategy is essential for patients with hd .\n",
            "\n",
            "Final Summary:\n",
            " this paper provides an overview of recent developments in the field of infectious diseases .<n> authors have discussed general principles of infection control , including the role of the immune system and innate and adaptive immunity .<n> authors have discussed specific aspects of infection control , including the role of the immune system and innate and adaptive immunity .<n> authors have also discussed animal models of infection , which provide an understanding of how organisms control the body shape up in response to external forces . in the future<n> , it is expected that the information gained from these studies will be useful for understanding the emergence of new pathogens and for improving the control of infections in the future .\n",
            "\n",
            "Bullet Point Summary from Core Content:\n",
            " - this paper provides an overview of recent developments in the field of infectious diseases .<n> authors have discussed general principles of infection control , including the role of the immune system and innate and adaptive immunity .<n> authors have discussed specific aspects of infection control , including the role of the immune system and innate and adaptive immunity .<n> authors have also discussed animal models of infection , which provide an understanding of how organisms control the body shape up in response to external forces .\n",
            "- in the future<n> , it is expected that the information gained from these studies will be useful for understanding the emergence of new pathogens and for improving the control of infections in the future .\n"
          ]
        }
      ]
    },
    {
      "cell_type": "markdown",
      "source": [
        "# Post-Processing: Final Paragraph Summary\n",
        "This cell converts the bullet point summary into a wrapped paragraph for a clean final output."
      ],
      "metadata": {
        "id": "DxMRaGCxP59a"
      }
    },
    {
      "cell_type": "code",
      "source": [
        "import textwrap\n",
        "# Convert bullet points to a neatly wrapped paragraph.\n",
        "paragraph_summary_wrapped = bullet_to_paragraph_wrapped(bullet_points, width=80)\n",
        "print(\"\\nFinal Paragraph Summary (wrapped):\\n\", paragraph_summary_wrapped)"
      ],
      "metadata": {
        "colab": {
          "base_uri": "https://localhost:8080/"
        },
        "id": "tie9w6J3P8OH",
        "outputId": "3c4561be-acd8-4afd-c9ac-107f2bc4d906"
      },
      "execution_count": 16,
      "outputs": [
        {
          "output_type": "stream",
          "name": "stdout",
          "text": [
            "\n",
            "Final Paragraph Summary (wrapped):\n",
            " this paper provides an overview of recent developments in the field of\n",
            "infectious diseases . authors have discussed general principles of infection\n",
            "control , including the role of the immune system and innate and adaptive\n",
            "immunity . authors have discussed specific aspects of infection control ,\n",
            "including the role of the immune system and innate and adaptive immunity .\n",
            "authors have also discussed animal models of infection , which provide an\n",
            "understanding of how organisms control the body shape up in response to external\n",
            "forces . in the future , it is expected that the information gained from these\n",
            "studies will be useful for understanding the emergence of new pathogens and for\n",
            "improving the control of infections in the future .\n"
          ]
        }
      ]
    },
    {
      "cell_type": "code",
      "source": [],
      "metadata": {
        "id": "Do7_CVlSOUX3"
      },
      "execution_count": 16,
      "outputs": []
    }
  ]
}